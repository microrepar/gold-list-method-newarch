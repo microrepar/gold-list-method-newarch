{
 "cells": [
  {
   "cell_type": "code",
   "execution_count": 1,
   "metadata": {},
   "outputs": [],
   "source": [
    "import redis\n",
    "\n",
    "r = redis.Redis(\n",
    "  host='redis-19725.c89.us-east-1-3.ec2.cloud.redislabs.com',\n",
    "  port=19725,\n",
    "  password='ZDH7I3vCoH5TjyIPKgfMZsTuld43ZFo8')"
   ]
  },
  {
   "cell_type": "code",
   "execution_count": 6,
   "metadata": {},
   "outputs": [
    {
     "data": {
      "text/plain": [
       "['sec_num_id_nb3_sequence',\n",
       " 'pg_num_nb1_gpA_sequence',\n",
       " 'notebook_id_sequence',\n",
       " 'PageSection',\n",
       " 'sentence_id_sequence',\n",
       " 'Notebook',\n",
       " 'pg_num_nb3_gpA_sequence',\n",
       " 'Sentence_id',\n",
       " 'pg_num_nb2_gpA_sequence',\n",
       " 'sec_num_id_nb1_sequence',\n",
       " 'Notebook_id',\n",
       " 'notebook_has_page_section_id',\n",
       " 'sec_num_id_nb2_sequence',\n",
       " 'Sentence']"
      ]
     },
     "execution_count": 6,
     "metadata": {},
     "output_type": "execute_result"
    }
   ],
   "source": [
    "[v.decode('utf-8') for v in r.keys()]"
   ]
  },
  {
   "cell_type": "code",
   "execution_count": 3,
   "metadata": {},
   "outputs": [
    {
     "name": "stdout",
     "output_type": "stream",
     "text": [
      "0\n",
      "0\n",
      "1\n",
      "1\n",
      "1\n",
      "1\n",
      "1\n",
      "1\n",
      "1\n",
      "1\n"
     ]
    }
   ],
   "source": [
    "for campo in['pg_num_nb1_gpGroup.HEADLIST_sequence',\n",
    "             'page_number_id_sequence_A',\n",
    "             'sentence_id_sequence',\n",
    "             'PageSection',\n",
    "             'Sentence_id',\n",
    "             'section_number_id_sequence',\n",
    "             'notebook_has_page_section_id',\n",
    "             'Sentence',\n",
    "             'pg_num_nb1_gpA_sequence',\n",
    "             'pg_num_nb2_gpA_sequence',]:\n",
    "    print(r.delete(campo))"
   ]
  },
  {
   "cell_type": "code",
   "execution_count": 37,
   "metadata": {},
   "outputs": [
    {
     "data": {
      "text/plain": [
       "b'7'"
      ]
     },
     "execution_count": 37,
     "metadata": {},
     "output_type": "execute_result"
    }
   ],
   "source": [
    "r.get('sequence_page_number_id_A')"
   ]
  },
  {
   "cell_type": "code",
   "execution_count": 10,
   "metadata": {},
   "outputs": [
    {
     "name": "stdout",
     "output_type": "stream",
     "text": [
      "{b'Notebook_3': b'[\"0902019f6810f4f88825181f05ecb4a7467243051fee1e55a58ef4682a12a271\", \"2899e92beab604a8a315b19b09e587aa1b3bb4aeaed46b3b014dd483f0769eb3\"]', b'Notebook_2': b'[\"024dc98a707baf63d2e7fd2b5540cd2ce697c7f96222b77054bd6e70cb31d3b1\", \"c7343bdc2136ce1bc9d0790fff0eb41ee1eb402bf1db672903ec7887c191442c\"]', b'Notebook_1': b'[\"a713acc18b7953ce627299fc7288930fe8fef80a4c07e75ed6465ffa2926fcca\", \"63acb694b2b19d6221879f2b129516c691863cbb73ebb9fff6f23945e7120f9d\", \"becb6b95e7bf5e6a7fbdb6f063f35d3fd9414f4d13067459f4023edc51ad731d\", \"d546a5a034c7bdf1b066af132e98dba7f1799dca29ccd0ca018e868e6633ebba\", \"834ce9de0d57b1a47d1f1c45f42b88543dade24de6b564d3fd82f211dfb40936\", \"8e2463ab1ed34f6f591fe214bfcfa98f2757cc42fc8f1c92871780c10cb7b364\"]'}\n",
      "None\n"
     ]
    },
    {
     "data": {
      "text/plain": [
       "[b'sec_num_id_nb3_sequence',\n",
       " b'pg_num_nb1_gpA_sequence',\n",
       " b'notebook_id_sequence',\n",
       " b'PageSection',\n",
       " b'sentence_id_sequence',\n",
       " b'Notebook',\n",
       " b'pg_num_nb3_gpA_sequence',\n",
       " b'Sentence_id',\n",
       " b'pg_num_nb2_gpA_sequence',\n",
       " b'sec_num_id_nb1_sequence',\n",
       " b'Notebook_id',\n",
       " b'notebook_has_page_section_id',\n",
       " b'sec_num_id_nb2_sequence',\n",
       " b'Sentence']"
      ]
     },
     "execution_count": 10,
     "metadata": {},
     "output_type": "execute_result"
    }
   ],
   "source": [
    "# print(r.hgetall('Notebook'))\n",
    "# print(r.hgetall('PageSection'))\n",
    "print(r.hgetall('notebook_has_page_section_id'))\n",
    "print(r.hget('notebook_has_page_section_id', '1'))\n",
    "# print(r.hgetall('Sentence'))\n",
    "# print(r.hget('Sentence', \"I'm going to the grocery store to buy some groceries.\"))\n",
    "# print(r.hgetall('Notebook_id'))\n",
    "# print(r.keys(\"*\"))\n",
    "\n",
    "# result = r.hdel('Notebook', 'Silver List 2023')\n",
    "r.keys()\n"
   ]
  },
  {
   "cell_type": "code",
   "execution_count": 38,
   "metadata": {},
   "outputs": [
    {
     "data": {
      "text/plain": [
       "0"
      ]
     },
     "execution_count": 38,
     "metadata": {},
     "output_type": "execute_result"
    }
   ],
   "source": [
    "result"
   ]
  },
  {
   "cell_type": "code",
   "execution_count": 13,
   "metadata": {},
   "outputs": [
    {
     "data": {
      "text/plain": [
       "'Gold List 2022'"
      ]
     },
     "execution_count": 13,
     "metadata": {},
     "output_type": "execute_result"
    }
   ],
   "source": [
    "r.hget('Notebook_id', 2).decode('utf-8')"
   ]
  },
  {
   "cell_type": "code",
   "execution_count": 39,
   "metadata": {},
   "outputs": [],
   "source": [
    "result = r.hdel('Notebook', 'Silver List 2023')"
   ]
  },
  {
   "cell_type": "code",
   "execution_count": 22,
   "metadata": {},
   "outputs": [
    {
     "name": "stdout",
     "output_type": "stream",
     "text": [
      "None\n"
     ]
    }
   ],
   "source": [
    "print(r.hget('Notebook', 1))"
   ]
  },
  {
   "cell_type": "code",
   "execution_count": 83,
   "metadata": {},
   "outputs": [
    {
     "data": {
      "text/plain": [
       "True"
      ]
     },
     "execution_count": 83,
     "metadata": {},
     "output_type": "execute_result"
    }
   ],
   "source": [
    "r.flushall()"
   ]
  }
 ],
 "metadata": {
  "kernelspec": {
   "display_name": "streamlit-venv",
   "language": "python",
   "name": "python3"
  },
  "language_info": {
   "codemirror_mode": {
    "name": "ipython",
    "version": 3
   },
   "file_extension": ".py",
   "mimetype": "text/x-python",
   "name": "python",
   "nbconvert_exporter": "python",
   "pygments_lexer": "ipython3",
   "version": "3.11.3"
  },
  "orig_nbformat": 4,
  "vscode": {
   "interpreter": {
    "hash": "190ed549938e445dce70ae17bfb6743029c175dad3ca020678d5dcd58da99137"
   }
  }
 },
 "nbformat": 4,
 "nbformat_minor": 2
}
